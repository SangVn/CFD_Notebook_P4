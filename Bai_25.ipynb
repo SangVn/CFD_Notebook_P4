{
 "cells": [
  {
   "cell_type": "markdown",
   "metadata": {},
   "source": [
    "Tài liệu này mang giấy phép Creative Commons Attribution (CC BY).\n",
    "(c) Nguyễn Ngọc Sáng, Zhukovsky 7/2020.\n",
    "\n",
    "[@SangVn](https://github.com/SangVn) [@VnCFD](https://vncfdgroup.wordpress.com/)\n",
    "\n",
    "*Thực hành CFD với Python!*"
   ]
  },
  {
   "cell_type": "markdown",
   "metadata": {},
   "source": [
    "**Danh sách tài liệu tham khảo:**\n",
    "\n",
    "*    [1. Eleuterio F. Toro] *`Riemann Solvers and Numerical Methods for Fluid Dynamics`*\n",
    "*    [2. Katake Masatsuka] I *`do like CFD. Governing Equations and Exact Solutions`*\n",
    "*    [3. F. Moukalled, L. Mangani, M. Darwish] *`The Finite Volume Method in Computational Fluid Dynamics. An Advanced Introduction with OpenFOAM and Matlab`*\n",
    "*    [4. Randall J. Leveque] *`Finite-Volume Methods for Hyperbolic Problems`*\n",
    "*    [5. H. K. Versteeg, W. Malalasekera] *`An introduction to Computational Fluid Dynamics. The Finite Volume Method`*\n",
    "\n",
    "\n",
    "\n",
    "# Bài 25. Hệ phương trình Navier-Stokes, phương pháp Roe tính dòng đối lưu \n",
    "\n",
    "Hệ phương trình Navier-Stokes được viết rất cụ thể trong quyển sách Abramovich chương 2, đã được dịch và đăng trên trang [VnCFD](https://vncfdgroup.wordpress.com). Các bài mở đầu bao gồm:\n",
    "\n",
    "* [Bài 1. Chuyển động của phần tử chất lỏng](https://vncfdgroup.wordpress.com/2012/04/09/bai-1-chuy%e1%bb%83n-d%e1%bb%99ng-c%e1%bb%a7a-ph%e1%ba%a7n-t%e1%bb%ad-ch%e1%ba%a5t-l%e1%bb%8fng/)\n",
    "\n",
    "* [Bài 2. Phương trình liên tục](https://vncfdgroup.wordpress.com/2012/04/14/bai-2-ph%c6%b0%c6%a1ng-trinh-lien-t%e1%bb%a5c/)\n",
    "\n",
    "* [Bài 3. Các lực tác dụng trong chất lỏng](https://vncfdgroup.wordpress.com/2012/04/14/bai-3-cac-l%e1%bb%b1c-tac-d%e1%bb%a5ng-trong-ch%e1%ba%a5t-l%e1%bb%8fng/)\n",
    "\n",
    "* [Bài 4. Mối liên hệ giữa ứng suất và tốc độ biến dạng](https://vncfdgroup.wordpress.com/2012/04/14/bai-4-m%e1%bb%91i-lien-h%e1%bb%87-gi%e1%bb%afa-%e1%bb%a9ng-su%e1%ba%a5t-va-d%e1%bb%99-bi%e1%ba%bfn-d%e1%ba%a1ng/)\n",
    "\n",
    "* [Bài 5. Phương trình Navier – Stokes](https://vncfdgroup.wordpress.com/2012/04/14/bai-5-ph%c6%b0%c6%a1ng-trinh-navier-stokes/)\n",
    "\n",
    "* [Bài 6. Phương trình năng lượng](https://vncfdgroup.wordpress.com/2012/04/14/bai-6-ph%c6%b0%c6%a1ng-trinh-nang-l%c6%b0%e1%bb%a3ng/)\n",
    "\n",
    "\n",
    "## 1. Hệ phương trình Navier-Stokes\n",
    "\n",
    "Để tóm tắt hệ phương trình Navier-Stokes, trước hết ta nhớ lại **hệ phương trình Euler cho khí lý tưởng**:\n",
    "\n",
    "$$\\frac{\\partial U}{\\partial t} + \\frac{\\partial F}{\\partial x} + \\frac{\\partial G}{\\partial y} + \\frac{\\partial H}{\\partial z} = 0 \\qquad (1)$$\n",
    "với \n",
    "\\begin{align}\n",
    "U & = \\begin{pmatrix} \\rho \\\\ \\rho u \\\\ \\rho v \\\\ \\rho w \\\\ \\rho e\\end{pmatrix}, &\n",
    "F & = \\begin{pmatrix} \\rho u \\\\ \\rho u^2 + p \\\\ \\rho uv \\\\ \\rho uw \\\\ \\rho uh\\end{pmatrix}, &\n",
    "G & = \\begin{pmatrix} \\rho v \\\\ \\rho vu \\\\ \\rho v^2 + p \\\\ \\rho vw \\\\ \\rho vh\\end{pmatrix}, &\n",
    "H & = \\begin{pmatrix} \\rho w \\\\ \\rho wu \\\\ \\rho wv \\\\ \\rho w^2 + p \\\\ \\rho wh\\end{pmatrix} &\n",
    "\\end{align}\n",
    "trong đó: $h = e + \\frac{p}{\\rho}$, $e = \\varepsilon + \\frac{u^2+v^2+w^2}{2}$, $\\varepsilon = \\frac{p}{(\\gamma-1)\\rho}$; $\\rho$ - khối lượng riêng; $u, v, w$ - vận tốc theo phương x, y, z; $p$ - áp suất;  $h$ - enthalpy; $e$ - năng lượng một đơn vị khối lượng chất khí; $\\varepsilon$ - nội năng.\n",
    "\n",
    "Trong phương trình (1), số hạng đầu gọi là **thành phần không ổn định (unsteady term)**, ba số hạng còn lại là **dòng đại lượng (khối lượng, động lượng, năng lượng) đi qua bề mặt thể tích kiểm soát**, được tạo ra bởi chuyển dịch vĩ mô của dòng, gọi là **thành phần đối lưu (convection term)**.\n",
    "\n",
    "Điểm khác biệt giữa hai hệ phương trình Euler và Navier-Stokes nằm ở chính đối tượng mà chúng mô tả. **Hệ Navier-Stokes mô tả khí thực** do đó phải tính tới lực ma sát trong (lực nhớt), công của lực ma sát, quá trình trao đổi nhiệt (dẫn nhiệt). Hệ này có dạng:\n",
    "\n",
    "$$\\frac{\\partial U}{\\partial t} + \\frac{\\partial F}{\\partial x} + \\frac{\\partial G}{\\partial y} + \\frac{\\partial H}{\\partial z} = 0 \\qquad (2)$$\n",
    "với \n",
    "\\begin{align}\n",
    "U & = \\begin{pmatrix} \\rho \\\\ \\rho u \\\\ \\rho v \\\\ \\rho w \\\\ \\rho e\\end{pmatrix}, &\n",
    "F & = \\begin{pmatrix} \\rho u \\\\ \\rho u^2+p\\\\ \\rho uv \\\\ \\rho uw \\\\ \\rho uh\\end{pmatrix} +\n",
    "\\begin{pmatrix} 0 \\\\ \\tau_{xx}\\\\ \\tau_{xy} \\\\ \\tau_{xz} \\\\ u\\tau_{xx}+v\\tau_{xy}+w\\tau_{xz}+q_x\\end{pmatrix}, &\n",
    "\\end{align}\n",
    "\n",
    "\\begin{align}\n",
    "G & = \\begin{pmatrix} \\rho v \\\\ \\rho vu \\\\ \\rho v^2+p \\\\ \\rho vw \\\\ \\rho vh \\end{pmatrix} + \n",
    "\\begin{pmatrix} 0 \\\\ \\tau_{yx} \\\\ \\tau_{yy} \\\\ \\tau_{yz} \\\\ u\\tau_{yx}+v\\tau_{yy}+w\\tau_{yz}+q_y\\end{pmatrix}, &\n",
    "H & = \\begin{pmatrix} \\rho w \\\\ \\rho wu \\\\ \\rho wv \\\\ \\rho w^2+p \\\\ \\rho wh \\end{pmatrix} +\n",
    "\\begin{pmatrix} 0 \\\\ \\tau_{zx} \\\\ \\tau_{zy} \\\\ \\tau_{zz} \\\\ u\\tau_{zx}+v\\tau_{zy}+w\\tau_{zz}+q_z\\end{pmatrix} &\n",
    "\\end{align}\n"
   ]
  },
  {
   "cell_type": "markdown",
   "metadata": {},
   "source": [
    "Trong đó, tensor lực nhớt:\n",
    "\\begin{align}\n",
    "\\tau & = \\begin{pmatrix} \n",
    "\\tau_{xx} & \\tau_{xy} & \\tau_{xz} \\\\\n",
    "\\tau_{yx} & \\tau_{yy} & \\tau_{yz} \\\\\n",
    "\\tau_{zx} & \\tau_{zy} & \\tau_{zz} \\\\\n",
    "\\end{pmatrix}\n",
    "\\end{align}\n",
    "với thành phần theo phương tiếp tuyến:\n",
    "\n",
    "$$\\tau_{xy}=\\tau_{yx}=-\\mu\\left(\\frac{\\partial u}{\\partial y}+\\frac{\\partial v}{\\partial x}\\right)$$\n",
    "$$\\tau_{yz}=\\tau_{zy}=-\\mu\\left(\\frac{\\partial v}{\\partial z}+\\frac{\\partial w}{\\partial y}\\right)$$\n",
    "$$\\tau_{zx}=\\tau_{xz}=-\\mu\\left(\\frac{\\partial w}{\\partial x}+\\frac{\\partial u}{\\partial z}\\right)$$\n",
    "\n",
    "và thành phần theo phương pháp tuyến:\n",
    "$$\\tau_{xx}=-2\\mu\\left[\\frac{\\partial u}{\\partial x} - \\frac{1}{3}\\left(\\frac{\\partial u}{\\partial x} +\\frac{\\partial v}{\\partial y}+\\frac{\\partial w}{\\partial z}\\right)\\right]$$\n",
    "\n",
    "$$\\tau_{yy}=-2\\mu\\left[\\frac{\\partial v}{\\partial y} - \\frac{1}{3}\\left(\\frac{\\partial u}{\\partial x} +\\frac{\\partial v}{\\partial y}+\\frac{\\partial w}{\\partial z}\\right)\\right]$$\n",
    "\n",
    "$$\\tau_{zz}=-2\\mu\\left[\\frac{\\partial w}{\\partial z} - \\frac{1}{3}\\left(\\frac{\\partial u}{\\partial x} +\\frac{\\partial v}{\\partial y}+\\frac{\\partial w}{\\partial z}\\right)\\right]$$\n",
    "\n",
    "hệ số nhớt động lực học:\n",
    "$$\\mu = \\mu_0\\left(\\frac{T}{T_0}\\right)^{1.5} \\frac{T_0+C}{T+C}; T_0=273 [K], C=122 [K], \\mu_0=1.72.10^{-5} [Pa.s]. $$\n"
   ]
  },
  {
   "cell_type": "markdown",
   "metadata": {},
   "source": [
    "Mật độ dòng nhiệt của quá trình dẫn nhiệt:\n",
    "$$q_x = -\\lambda \\frac{\\partial T}{\\partial x}, q_y = -\\lambda \\frac{\\partial T}{\\partial y}, q_z = -\\lambda \\frac{\\partial T}{\\partial z},$$\n",
    "hệ số dẫn nhiệt $\\lambda$ tính thông qua số Prandtl:\n",
    "\n",
    "$$Pr = \\frac{c_p \\mu}{\\lambda}=\\frac{\\gamma R \\mu}{\\lambda (\\gamma-1)}$$\n",
    "\n",
    "với không khí trong khoảng nhiệt độ từ 200K tới 1000K, $Pr=0.72$.\n",
    "\n",
    "Mật độ dòng nhiệt có thể tính theo công thức:\n",
    "\n",
    "$$q = -\\lambda grad T = -\\frac{\\mu}{Pr(\\gamma-1)}grad (c^2) = -\\frac{\\gamma \\mu}{Pr(\\gamma-1)}grad (p/\\rho), \\quad c=\\sqrt{\\frac{\\gamma p}{\\rho}}=\\sqrt{\\gamma R T}$$ \n",
    "\n",
    "So với hệ phương trình Euler, trong Navier-Stokes (2) **dòng qua mặt** gồm hai thành phần: **thành phần đối lưu (convection term)** và **thành phần khuếch tán (diffusion term)**. Thành phần khuếch tán được tạo ra bởi chuyển dịch, va chạm của các phân tử chất khí. \n",
    "\n",
    "Như vậy, để giải hệ Navier-Stokes ta cần phải thêm vào euler solver **dòng khuếch tán**.\n"
   ]
  },
  {
   "cell_type": "markdown",
   "metadata": {},
   "source": [
    "# 2. Phương pháp Roe tính dòng đối lưu\n",
    "\n",
    "Có nhiều phương pháp tính dòng đối lưu, ở phần 2 *Thực hành CFD với Python* chúng ta đã tìm hiểu phương pháp Godunov: tìm nghiệm biến nguyên thủy của bài toán phân ra gián đoạn Riemann, thông qua đó để tính dòng qua mặt. Ở phần 3, ta đã sử dụng phương pháp Roe để tính dòng qua mặt nhưng chưa tìm hiểu về nó.\n",
    "\n",
    "Các phương pháp giải bài toán Riemann được viết rất cụ thể trong các quyển sách tham khảo được liệt kê ở trên. Sau đây ta cùng tìm hiểu về phương pháp Roe.\n",
    "\n",
    "Xét hệ phương trình vi phân:\n",
    "\n",
    "$$\\frac{\\partial U}{\\partial t} + \\frac{\\partial F}{\\partial x} =0$$\n",
    "\n",
    "Phương trình này có thể viết lại ở dạng:\n",
    "\n",
    "$$\\frac{\\partial U}{\\partial t} + A(U)\\frac{\\partial U}{\\partial x} =0$$\n",
    "với ma trận Jacobi $A(U)=\\frac{\\partial F}{\\partial U}$.\n",
    "\n",
    "Để giải bài toán Riemann, thay vì sử dụng ma trận chuẩn xác Jacobi A(U) phương pháp xấp xỉ Roe đề xuất sử dụng ma trận hằng số Jacobi $\\hat A(U_L, U_R)$. Đối với hệ hyperbolic của $m$ định luật bảo toàn ($m$ phương trình), ma trận $\\hat A$ phải thỏa mãn các tính chất sau:\n",
    "\n",
    "* 1. có các trị riêng là số thực  $\\hat\\lambda_1 \\le \\hat\\lambda_2 \\le... \\le \\hat\\lambda_m$ và\n",
    "     có hệ đầy đủ vector riêng bên phải độc lập tuyến tính $\\hat R_1, \\hat R_2, ..., \\hat R_m$ \n",
    "* 2. $\\hat A(U,U) = A(U)$\n",
    "* 3. $F(U_R)-F(U_L) = \\hat A(U_R-U_L)$\n",
    "\n",
    "Khi đó ta có: \n",
    "$$\\hat A=\\hat R \\hat\\Lambda \\hat R^{-1}$$\n",
    "\n",
    "với $\\hat R, \\hat R^{-1}$ là ma trận cột các vector riêng bên phải và nghịch đảo của nó, $\\hat \\Lambda$ là ma trận đường chéo các trị riêng.\n",
    "\n",
    "Giá trị của Jacobian $\\hat A$ được xác định, sử dụng các giá trị trung bình Roe:\n",
    "\n",
    "\\begin{align}\n",
    "\\hat \\rho &= \\sqrt{\\rho_L \\rho_R} \\\\\n",
    "\\hat u &= \\frac{\\sqrt{\\rho_L}u_L + \\sqrt{\\rho_R}u_R}{\\sqrt{\\rho_L}+\\sqrt{\\rho_R}} \\\\\n",
    "\\hat v &= \\frac{\\sqrt{\\rho_L}v_L + \\sqrt{\\rho_R}v_R}{\\sqrt{\\rho_L}+\\sqrt{\\rho_R}} \\\\\n",
    "\\hat h &= \\frac{\\sqrt{\\rho_L}h_L + \\sqrt{\\rho_R}h_R}{\\sqrt{\\rho_L}+\\sqrt{\\rho_R}} \\\\\n",
    "\\hat c &= \\sqrt{(\\gamma-1)(\\hat h - {\\hat q})} \\\\\n",
    "\\hat q &= (\\hat u^2 + \\hat v^2)/2\n",
    "\\end{align}\n",
    "\n",
    "\n",
    "### Công thức tính dòng qua mặt\n",
    "\n",
    "Trước hết ta biểu diễn hiệu $U_R-U_L$ ở dạng:\n",
    "\n",
    "$$\\Delta U = U_R-U_L = \\sum_{i=1}^m \\hat \\alpha_i \\hat R^i$$\n",
    "\n",
    "Khi đó, giá trị $U_{i+1/2}, F_{i+1/2}$ có thể tính theo 1 trong hai công thức sau:\n",
    "* Công thức 1:\n",
    "\\begin{align}\n",
    "U_{i+1/2} &= \\frac{1}{2}(U_L + U_R) - \\frac{1}{2}\\sum_{i=i}^m sign(\\hat \\lambda_i) \\hat \\alpha_i \\hat R^i \\\\\n",
    "F_{i+1/2} &= \\frac{1}{2}(F_L + F_R) - \\frac{1}{2}\\sum_{i=i}^m |\\hat \\lambda_i| \\hat \\alpha_i \\hat R^i\n",
    "\\end{align}\n",
    "* Công thức 2:\n",
    "\\begin{align}\n",
    "U_{i+1/2} &= \\frac{1}{2}(U_L + U_R) - \\frac{1}{2}R sign(\\hat \\Lambda) \\hat R^{-1} \\\\\n",
    "F_{i+1/2} &= \\frac{1}{2}(F_L + F_R) - \\frac{1}{2}R |\\hat \\Lambda| \\hat R^{-1}\n",
    "\\end{align}\n",
    "\n",
    "Trong đó $sign(\\hat \\lambda), |\\hat \\lambda|$ lần lượt là dấu và trị tuyệt đối của $\\hat \\lambda$.\n",
    "\n",
    "Làm thế nào để có công thức tính Jacobian, trị riêng, vector riêng hay $\\alpha$? \n",
    "\n",
    "Xét trường hợp cụ thể sau.\n",
    "### Bài toán hai chiều \n",
    "Cụ thể, xét bài toán hai chiều:\n",
    "\\begin{align}\n",
    "U & = \\begin{pmatrix} \\rho \\\\ \\rho u \\\\ \\rho v \\\\ \\rho e\\end{pmatrix}, &\n",
    "F & = \\begin{pmatrix} \\rho u \\\\ \\rho u^2 + p \\\\ \\rho uv  \\\\ \\rho uh\\end{pmatrix}, &\n",
    "G & = \\begin{pmatrix} \\rho v \\\\ \\rho vu \\\\ \\rho v^2 + p \\\\ \\rho vh\\end{pmatrix} &\n",
    "\\end{align}\n",
    "\n",
    "Vector dòng vuông góc với mặt (normal flux) hay là hình chiếu của dòng theo phương pháp tuyến bề mặt $n=(n_x, n_y)^T$ được xác định như sau:\n",
    "\n",
    "\\begin{equation}\n",
    "F_n = [F,G].n=Fn_x+Gn_y=\\begin{pmatrix} \\rho V_n \\\\ \\rho V_nu+pn_x \\\\ \\rho V_nv+pn_y \\\\ \\rho V_nh \\end{pmatrix}\n",
    "\\end{equation}\n",
    "\n",
    "với $V_n=un_x+vn_y$. Ma trận Jacobi $A_n=An_x + Bn_y=\\frac{\\partial F}{\\partial U}n_x + \\frac{\\partial G}{\\partial U}n_y$\n",
    "\n",
    "## 3. Sympy, Jacobian\n",
    "\n",
    "Để tìm ma trận Jacobi cũng như trị riêng, vector riêng ta sẽ biến đổi toán học bằng sympy."
   ]
  },
  {
   "cell_type": "code",
   "execution_count": 1,
   "metadata": {},
   "outputs": [],
   "source": [
    "# Gọi thư viện sympy \n",
    "from sympy import*\n",
    "\n",
    "init_printing()"
   ]
  },
  {
   "cell_type": "code",
   "execution_count": 2,
   "metadata": {},
   "outputs": [
    {
     "data": {
      "text/latex": [
       "$$\\left ( \\left[\\begin{matrix}\\rho\\\\u\\\\v\\\\p\\end{matrix}\\right], \\quad \\left[\\begin{matrix}\\rho\\\\\\rho u\\\\\\rho v\\\\\\frac{p}{\\gamma - 1} + q \\rho\\end{matrix}\\right], \\quad \\left[\\begin{matrix}\\rho u\\\\p + \\rho u^{2}\\\\\\rho u v\\\\u \\left(\\frac{\\gamma p}{\\gamma - 1} + q \\rho\\right)\\end{matrix}\\right], \\quad \\left[\\begin{matrix}\\rho v\\\\\\rho u v\\\\p + \\rho v^{2}\\\\v \\left(\\frac{\\gamma p}{\\gamma - 1} + q \\rho\\right)\\end{matrix}\\right]\\right )$$"
      ],
      "text/plain": [
       "⎛                    ⎡      ρ⋅u      ⎤  ⎡      ρ⋅v      ⎤⎞\n",
       "⎜     ⎡     ρ     ⎤  ⎢               ⎥  ⎢               ⎥⎟\n",
       "⎜⎡ρ⎤  ⎢           ⎥  ⎢          2    ⎥  ⎢     ρ⋅u⋅v     ⎥⎟\n",
       "⎜⎢ ⎥  ⎢    ρ⋅u    ⎥  ⎢   p + ρ⋅u     ⎥  ⎢               ⎥⎟\n",
       "⎜⎢u⎥  ⎢           ⎥  ⎢               ⎥  ⎢          2    ⎥⎟\n",
       "⎜⎢ ⎥, ⎢    ρ⋅v    ⎥, ⎢     ρ⋅u⋅v     ⎥, ⎢   p + ρ⋅v     ⎥⎟\n",
       "⎜⎢v⎥  ⎢           ⎥  ⎢               ⎥  ⎢               ⎥⎟\n",
       "⎜⎢ ⎥  ⎢  p        ⎥  ⎢  ⎛ γ⋅p       ⎞⎥  ⎢  ⎛ γ⋅p       ⎞⎥⎟\n",
       "⎜⎣p⎦  ⎢───── + q⋅ρ⎥  ⎢u⋅⎜───── + q⋅ρ⎟⎥  ⎢v⋅⎜───── + q⋅ρ⎟⎥⎟\n",
       "⎝     ⎣γ - 1      ⎦  ⎣  ⎝γ - 1      ⎠⎦  ⎣  ⎝γ - 1      ⎠⎦⎠"
      ]
     },
     "execution_count": 2,
     "metadata": {},
     "output_type": "execute_result"
    }
   ],
   "source": [
    "# Làm quen với sympy:\n",
    "\n",
    "# Khai báo các kí tự sẽ sử dụng để biến đổi toán học \n",
    "r, u, v, p, h, g, q, c = symbols('rho u v p h gamma q c', real=True)\n",
    "u1, u2, u3, u4 = symbols('u_1 u_2 u_3 u_4', real=True)\n",
    "nx, ny, Vn = symbols('n_x n_y V_n', real=True)\n",
    "\n",
    "# Khai báo các vector ở dạng matrận \n",
    "# q = 0.5(u*u+v*v)\n",
    "\n",
    "P = Matrix([r, u, v, p])\n",
    "U = Matrix([r, r*u, r*v, p/(g-1) + r*q])\n",
    "F = Matrix([r*u, r*u*u + p, r*u*v, (g*p/(g-1) + r*q)*u])\n",
    "G = Matrix([r*v, r*v*u, r*v*v + p, (g*p/(g-1) + r*q)*v])\n",
    "\n",
    "# in ra màn hình \n",
    "P, U, F, G"
   ]
  },
  {
   "cell_type": "markdown",
   "metadata": {},
   "source": [
    "Cách xác định ma trận Jacobi (Jacobian):\n",
    "\n",
    "\\begin{equation}\n",
    "A=\\frac{\\partial F}{\\partial U}=\n",
    "\\frac{\\partial(f_1, f_2, f_3, f_4)}{\\partial(u_1, u_2, u_3, u_4)}=\n",
    "\\begin{pmatrix}\n",
    "\\frac{\\partial f_1}{\\partial u_1} & \\frac{\\partial f_1}{\\partial u_2} & \\frac{\\partial f_1}{\\partial u_3} & \\frac{\\partial f_1}{\\partial u_4} \\\\\n",
    "\\frac{\\partial f_2}{\\partial u_1} & \\frac{\\partial f_2}{\\partial u_2} & \\frac{\\partial f_2}{\\partial u_3} & \\frac{\\partial f_2}{\\partial u_4} \\\\\n",
    "\\frac{\\partial f_3}{\\partial u_1} & \\frac{\\partial f_3}{\\partial u_2} & \\frac{\\partial f_3}{\\partial u_3} & \\frac{\\partial f_3}{\\partial u_4} \\\\\n",
    "\\frac{\\partial f_4}{\\partial u_1} & \\frac{\\partial f_4}{\\partial u_2} & \\frac{\\partial f_4}{\\partial u_3} & \\frac{\\partial f_4}{\\partial u_4} \\\\\n",
    "\\end{pmatrix}\n",
    "\\end{equation}"
   ]
  },
  {
   "cell_type": "code",
   "execution_count": 3,
   "metadata": {},
   "outputs": [
    {
     "data": {
      "text/latex": [
       "$$\\left ( \\left[\\begin{matrix}0 & 1 & 0 & 0\\\\- u^{2} + \\frac{\\left(\\gamma - 1\\right) \\left(u^{2} + v^{2}\\right)}{2} & u \\left(- \\gamma + 3\\right) & v \\left(- \\gamma + 1\\right) & \\gamma - 1\\\\- u v & v & u & 0\\\\\\frac{u \\left(\\gamma^{2} \\rho u^{2} + \\gamma^{2} \\rho v^{2} - 2 \\gamma p - 3 \\gamma \\rho u^{2} - 3 \\gamma \\rho v^{2} + 2 \\rho u^{2} + 2 \\rho v^{2}\\right)}{2 \\rho \\left(\\gamma - 1\\right)} & \\frac{- 2 \\gamma^{2} \\rho u^{2} + 2 \\gamma p + 5 \\gamma \\rho u^{2} + \\gamma \\rho v^{2} - 3 \\rho u^{2} - \\rho v^{2}}{2 \\rho \\left(\\gamma - 1\\right)} & u v \\left(- \\gamma + 1\\right) & \\gamma u\\end{matrix}\\right], \\quad \\left[\\begin{matrix}0 & 0 & 1 & 0\\\\- u v & v & u & 0\\\\- v^{2} + \\frac{\\left(\\gamma - 1\\right) \\left(u^{2} + v^{2}\\right)}{2} & u \\left(- \\gamma + 1\\right) & v \\left(- \\gamma + 3\\right) & \\gamma - 1\\\\\\frac{v \\left(\\gamma^{2} \\rho u^{2} + \\gamma^{2} \\rho v^{2} - 2 \\gamma p - 3 \\gamma \\rho u^{2} - 3 \\gamma \\rho v^{2} + 2 \\rho u^{2} + 2 \\rho v^{2}\\right)}{2 \\rho \\left(\\gamma - 1\\right)} & u v \\left(- \\gamma + 1\\right) & \\frac{- 2 \\gamma^{2} \\rho v^{2} + 2 \\gamma p + \\gamma \\rho u^{2} + 5 \\gamma \\rho v^{2} - \\rho u^{2} - 3 \\rho v^{2}}{2 \\rho \\left(\\gamma - 1\\right)} & \\gamma v\\end{matrix}\\right]\\right )$$"
      ],
      "text/plain": [
       "⎛⎡                                  0                                         \n",
       "⎜⎢                                                                            \n",
       "⎜⎢                                     ⎛ 2    2⎞                              \n",
       "⎜⎢                         2   (γ - 1)⋅⎝u  + v ⎠                              \n",
       "⎜⎢                      - u  + ─────────────────                              \n",
       "⎜⎢                                     2                                      \n",
       "⎜⎢                                                                            \n",
       "⎜⎢                                -u⋅v                                        \n",
       "⎜⎢                                                                            \n",
       "⎜⎢  ⎛ 2    2    2    2                  2          2        2        2⎞       \n",
       "⎜⎢u⋅⎝γ ⋅ρ⋅u  + γ ⋅ρ⋅v  - 2⋅γ⋅p - 3⋅γ⋅ρ⋅u  - 3⋅γ⋅ρ⋅v  + 2⋅ρ⋅u  + 2⋅ρ⋅v ⎠  - 2⋅γ\n",
       "⎜⎢─────────────────────────────────────────────────────────────────────  ─────\n",
       "⎝⎣                             2⋅ρ⋅(γ - 1)                                    \n",
       "\n",
       "                      1                                  0          0  ⎤  ⎡   \n",
       "                                                                       ⎥  ⎢   \n",
       "                                                                       ⎥  ⎢   \n",
       "                                                                       ⎥  ⎢   \n",
       "                 u⋅(-γ + 3)                          v⋅(-γ + 1)   γ - 1⎥  ⎢   \n",
       "                                                                       ⎥  ⎢   \n",
       "                                                                       ⎥, ⎢   \n",
       "                      v                                  u          0  ⎥  ⎢   \n",
       "                                                                       ⎥  ⎢   \n",
       "2    2                  2        2        2      2                     ⎥  ⎢  ⎛\n",
       " ⋅ρ⋅u  + 2⋅γ⋅p + 5⋅γ⋅ρ⋅u  + γ⋅ρ⋅v  - 3⋅ρ⋅u  - ρ⋅v                      ⎥  ⎢v⋅⎝\n",
       "──────────────────────────────────────────────────  u⋅v⋅(-γ + 1)   γ⋅u ⎥  ⎢───\n",
       "                 2⋅ρ⋅(γ - 1)                                           ⎦  ⎣   \n",
       "\n",
       "                               0                                         0    \n",
       "                                                                              \n",
       "                             -u⋅v                                        v    \n",
       "                                                                              \n",
       "                                  ⎛ 2    2⎞                                   \n",
       "                      2   (γ - 1)⋅⎝u  + v ⎠                                   \n",
       "                   - v  + ─────────────────                          u⋅(-γ + 1\n",
       "                                  2                                           \n",
       "                                                                              \n",
       " 2    2    2    2                  2          2        2        2⎞            \n",
       "γ ⋅ρ⋅u  + γ ⋅ρ⋅v  - 2⋅γ⋅p - 3⋅γ⋅ρ⋅u  - 3⋅γ⋅ρ⋅v  + 2⋅ρ⋅u  + 2⋅ρ⋅v ⎠            \n",
       "──────────────────────────────────────────────────────────────────  u⋅v⋅(-γ + \n",
       "                          2⋅ρ⋅(γ - 1)                                         \n",
       "\n",
       "                               1                               0  ⎤⎞\n",
       "                                                                  ⎥⎟\n",
       "                               u                               0  ⎥⎟\n",
       "                                                                  ⎥⎟\n",
       "                                                                  ⎥⎟\n",
       "                                                                  ⎥⎟\n",
       ")                         v⋅(-γ + 3)                         γ - 1⎥⎟\n",
       "                                                                  ⎥⎟\n",
       "                                                                  ⎥⎟\n",
       "         2    2                2          2      2        2       ⎥⎟\n",
       "    - 2⋅γ ⋅ρ⋅v  + 2⋅γ⋅p + γ⋅ρ⋅u  + 5⋅γ⋅ρ⋅v  - ρ⋅u  - 3⋅ρ⋅v        ⎥⎟\n",
       "1)  ───────────────────────────────────────────────────────   γ⋅v ⎥⎟\n",
       "                          2⋅ρ⋅(γ - 1)                             ⎦⎠"
      ]
     },
     "execution_count": 3,
     "metadata": {},
     "output_type": "execute_result"
    }
   ],
   "source": [
    "# Để tìm ma trận Jacobi ta chuyển sang sử dụng các biến (u1,u2,u3,u4)\n",
    "U = Matrix([u1, u2, u3, u4])\n",
    "\n",
    "# Khi đó áp suất p được tính theo công thức \n",
    "pf = (u4-(u2*u2+u3*u3)/(2*u1))*(g-1)\n",
    "\n",
    "# Biến đổi ta có: \n",
    "F = Matrix([u2, u2*u2/u1 + pf, u2*u3/u1, (u4+pf)*u2/u1])\n",
    "G = Matrix([u3, u3*u2/u1, u3*u3/u1 + pf, (u4+pf)*u3/u1])\n",
    "\n",
    "# Tìm matrận Jacobi\n",
    "A = F.jacobian(U)\n",
    "B = G.jacobian(U)\n",
    "\n",
    "# Để đưa về dạng nguyên bản ta thực hiện bước thay biến \n",
    "args = ([u1, r], [u2, r*u], [u3, r*v], [u4, p/(g-1)+0.5*r*(u*u+v*v)])\n",
    "\n",
    "# Dùng hàm simplify để rút gọn công thức, in ra màn hình \n",
    "A, B = simplify(A.subs(args)), simplify(B.subs(args))\n",
    "A, B"
   ]
  },
  {
   "cell_type": "code",
   "execution_count": 4,
   "metadata": {},
   "outputs": [
    {
     "data": {
      "image/png": "[encoded data removed]",
      "text/latex": [
       "$$\\left \\{ \\frac{n_{x} \\rho u + n_{y} \\rho v - \\sqrt{\\gamma p \\rho} \\sqrt{n_{x}^{2} + n_{y}^{2}}}{\\rho} : 1, \\quad \\frac{n_{x} \\rho u + n_{y} \\rho v + \\sqrt{\\gamma p \\rho} \\sqrt{n_{x}^{2} + n_{y}^{2}}}{\\rho} : 1, \\quad n_{x} u + n_{y} v : 2\\right \\}$$"
      ],
      "text/plain": [
       "⎧                                ____________                                 \n",
       "⎪                     _______   ╱   2      2                           _______\n",
       "⎨nₓ⋅ρ⋅u + n_y⋅ρ⋅v - ╲╱ γ⋅p⋅ρ ⋅╲╱  nₓ  + n_y       nₓ⋅ρ⋅u + n_y⋅ρ⋅v + ╲╱ γ⋅p⋅ρ \n",
       "⎪────────────────────────────────────────────: 1, ────────────────────────────\n",
       "⎩                     ρ                                                ρ      \n",
       "\n",
       "    ____________                    ⎫\n",
       "   ╱   2      2                     ⎪\n",
       "⋅╲╱  nₓ  + n_y                      ⎬\n",
       "────────────────: 1, nₓ⋅u + n_y⋅v: 2⎪\n",
       "                                    ⎭"
      ]
     },
     "execution_count": 4,
     "metadata": {},
     "output_type": "execute_result"
    }
   ],
   "source": [
    "# Jacobian An\n",
    "An = A*nx+B*ny\n",
    "\n",
    "# Tìm trị riêng \n",
    "simplify(An.eigenvals())"
   ]
  },
  {
   "cell_type": "markdown",
   "metadata": {},
   "source": [
    "Như vậy Jacobian An có 4 trị riêng:\n",
    "$$\\lambda_1=\\lambda_2=V_n, \\lambda_3=V_n-c, \\lambda_4=V_n+c$$\n",
    "với vận tốc âm thanh $c=\\sqrt{\\gamma p/ \\rho}$\n",
    "\n",
    "Để tìm vector riêng bên phải, bên trái có thể dùng hàm **An.eigenvects(), An.left_eigenvects()**, tuy nhiên công thức thu được sẽ rất rất dài vì không được rút gọn. Vì vậy ta sẽ thu gọn Jacobian An và tính toán thủ công."
   ]
  },
  {
   "cell_type": "code",
   "execution_count": 5,
   "metadata": {},
   "outputs": [],
   "source": [
    "# Rút gọn công thức ta có hai ma trận Jacobi sau:\n",
    "A = Matrix([[0, 1, 0, 0], [(g-1)*q-u*u, (3-g)*u, (1-g)*v, g-1],\\\n",
    "            [-u*v, v, u, 0], [((g-1)*q-h)*u, h+(1-g)*u*u, (1-g)*u*v, g*u]])\n",
    "\n",
    "B = Matrix([[0, 0, 1, 0], [-u*v, v, u, 0], \\\n",
    "                [(g-1)*q-v*v, (1-g)*u, (3-g)*v, g-1],\\\n",
    "                [((g-1)*q-h)*v, (1-g)*u*v, h+(1-g)*v*v, g*v]]) \n",
    "# In ra màn hình \n",
    "# A, B"
   ]
  },
  {
   "cell_type": "code",
   "execution_count": 6,
   "metadata": {},
   "outputs": [
    {
     "data": {
      "text/latex": [
       "$$\\left[\\begin{matrix}0 & n_{x} & n_{y} & 0\\\\n_{x} \\left(q \\left(\\gamma - 1\\right) - u^{2}\\right) - n_{y} u v & n_{x} u \\left(- \\gamma + 3\\right) + n_{y} v & n_{x} v \\left(- \\gamma + 1\\right) + n_{y} u & n_{x} \\left(\\gamma - 1\\right)\\\\- n_{x} u v + n_{y} \\left(q \\left(\\gamma - 1\\right) - v^{2}\\right) & n_{x} v + n_{y} u \\left(- \\gamma + 1\\right) & n_{x} u + n_{y} v \\left(- \\gamma + 3\\right) & n_{y} \\left(\\gamma - 1\\right)\\\\n_{x} u \\left(- h + q \\left(\\gamma - 1\\right)\\right) + n_{y} v \\left(- h + q \\left(\\gamma - 1\\right)\\right) & n_{x} \\left(h + u^{2} \\left(- \\gamma + 1\\right)\\right) + n_{y} u v \\left(- \\gamma + 1\\right) & n_{x} u v \\left(- \\gamma + 1\\right) + n_{y} \\left(h + v^{2} \\left(- \\gamma + 1\\right)\\right) & \\gamma n_{x} u + \\gamma n_{y} v\\end{matrix}\\right]$$"
      ],
      "text/plain": [
       "⎡                      0                                           nₓ         \n",
       "⎢                                                                             \n",
       "⎢           ⎛             2⎞                                                  \n",
       "⎢        nₓ⋅⎝q⋅(γ - 1) - u ⎠ - n_y⋅u⋅v                    nₓ⋅u⋅(-γ + 3) + n_y⋅\n",
       "⎢                                                                             \n",
       "⎢                      ⎛             2⎞                                       \n",
       "⎢        -nₓ⋅u⋅v + n_y⋅⎝q⋅(γ - 1) - v ⎠                   nₓ⋅v + n_y⋅u⋅(-γ + 1\n",
       "⎢                                                                             \n",
       "⎢                                                   ⎛     2         ⎞         \n",
       "⎣nₓ⋅u⋅(-h + q⋅(γ - 1)) + n_y⋅v⋅(-h + q⋅(γ - 1))  nₓ⋅⎝h + u ⋅(-γ + 1)⎠ + n_y⋅u⋅\n",
       "\n",
       "                              n_y                           0        ⎤\n",
       "                                                                     ⎥\n",
       "                                                                     ⎥\n",
       "v                    nₓ⋅v⋅(-γ + 1) + n_y⋅u              nₓ⋅(γ - 1)   ⎥\n",
       "                                                                     ⎥\n",
       "                                                                     ⎥\n",
       ")                    nₓ⋅u + n_y⋅v⋅(-γ + 3)             n_y⋅(γ - 1)   ⎥\n",
       "                                                                     ⎥\n",
       "                                  ⎛     2         ⎞                  ⎥\n",
       "v⋅(-γ + 1)  nₓ⋅u⋅v⋅(-γ + 1) + n_y⋅⎝h + v ⋅(-γ + 1)⎠  γ⋅nₓ⋅u + γ⋅n_y⋅v⎦"
      ]
     },
     "execution_count": 6,
     "metadata": {},
     "output_type": "execute_result"
    }
   ],
   "source": [
    "# Jacobian An \n",
    "An = A*nx+B*ny\n",
    "An"
   ]
  },
  {
   "cell_type": "code",
   "execution_count": 7,
   "metadata": {},
   "outputs": [
    {
     "data": {
      "image/png": "[encoded data removed]",
      "text/latex": [
       "$$\\left \\{ n_{x} u + n_{y} v : 2, \\quad n_{x} u + n_{y} v - \\sqrt{n_{x}^{2} + n_{y}^{2}} \\sqrt{\\gamma h + \\gamma q - \\gamma u^{2} - \\gamma v^{2} - h - q + u^{2} + v^{2}} : 1, \\quad n_{x} u + n_{y} v + \\sqrt{n_{x}^{2} + n_{y}^{2}} \\sqrt{\\gamma h + \\gamma q - \\gamma u^{2} - \\gamma v^{2} - h - q + u^{2} + v^{2}} : 1\\right \\}$$"
      ],
      "text/plain": [
       "⎧                                   ____________    __________________________\n",
       "⎨                                  ╱   2      2    ╱                2      2  \n",
       "⎩nₓ⋅u + n_y⋅v: 2, nₓ⋅u + n_y⋅v - ╲╱  nₓ  + n_y  ⋅╲╱  γ⋅h + γ⋅q - γ⋅u  - γ⋅v  -\n",
       "\n",
       "_________________                       ____________    ______________________\n",
       "          2    2                       ╱   2      2    ╱                2     \n",
       " h - q + u  + v  : 1, nₓ⋅u + n_y⋅v + ╲╱  nₓ  + n_y  ⋅╲╱  γ⋅h + γ⋅q - γ⋅u  - γ⋅\n",
       "\n",
       "_____________________   ⎫\n",
       " 2            2    2    ⎬\n",
       "v  - h - q + u  + v  : 1⎭"
      ]
     },
     "execution_count": 7,
     "metadata": {},
     "output_type": "execute_result"
    }
   ],
   "source": [
    "# Kiểm tra lại trị riêng \n",
    "An.eigenvals()"
   ]
  },
  {
   "cell_type": "markdown",
   "metadata": {},
   "source": [
    "Rút gọn ta được 4 trị riêng như ở trên: \n",
    "$$\\lambda_1=\\lambda_2=V_n, \\lambda_3=V_n-c, \\lambda_4=V_n+c$$    "
   ]
  },
  {
   "cell_type": "code",
   "execution_count": 8,
   "metadata": {},
   "outputs": [
    {
     "data": {
      "text/latex": [
       "$$\\left[\\begin{matrix}- V_{n} & n_{x} & n_{y} & 0\\\\- V_{n} u + n_{x} q \\left(\\gamma - 1\\right) & n_{x} u \\left(- \\gamma + 2\\right) & n_{x} v \\left(- \\gamma + 1\\right) + n_{y} u & n_{x} \\left(\\gamma - 1\\right)\\\\- V_{n} v + n_{y} q \\left(\\gamma - 1\\right) & n_{x} v + n_{y} u \\left(- \\gamma + 1\\right) & n_{y} v \\left(- \\gamma + 2\\right) & n_{y} \\left(\\gamma - 1\\right)\\\\V_{n} \\left(- h + q \\left(\\gamma - 1\\right)\\right) & V_{n} u \\left(- \\gamma + 1\\right) + h n_{x} & V_{n} v \\left(- \\gamma + 1\\right) + h n_{y} & V_{n} \\gamma - V_{n}\\end{matrix}\\right]$$"
      ],
      "text/plain": [
       "⎡         -Vₙ                    nₓ                     n_y                0  \n",
       "⎢                                                                             \n",
       "⎢-Vₙ⋅u + nₓ⋅q⋅(γ - 1)       nₓ⋅u⋅(-γ + 2)      nₓ⋅v⋅(-γ + 1) + n_y⋅u  nₓ⋅(γ - \n",
       "⎢                                                                             \n",
       "⎢-Vₙ⋅v + n_y⋅q⋅(γ - 1)  nₓ⋅v + n_y⋅u⋅(-γ + 1)     n_y⋅v⋅(-γ + 2)      n_y⋅(γ -\n",
       "⎢                                                                             \n",
       "⎣ Vₙ⋅(-h + q⋅(γ - 1))   Vₙ⋅u⋅(-γ + 1) + h⋅nₓ   Vₙ⋅v⋅(-γ + 1) + h⋅n_y   Vₙ⋅γ - \n",
       "\n",
       "   ⎤\n",
       "   ⎥\n",
       "1) ⎥\n",
       "   ⎥\n",
       " 1)⎥\n",
       "   ⎥\n",
       "Vₙ ⎦"
      ]
     },
     "execution_count": 8,
     "metadata": {},
     "output_type": "execute_result"
    }
   ],
   "source": [
    "# Rút gọn công thức ta có Jacobian An:\n",
    "An = Matrix([[0 , nx , ny , 0], \\\n",
    "            [(g-1)*q*nx - Vn*u, (2-g)*u*nx + Vn, (1-g)*v*nx + u*ny , (g-1)*nx], \\\n",
    "            [(g-1)*q*ny - Vn*v, (1-g)*u*ny + v*nx, (2-g)*v*ny + Vn , (g-1)*ny], \\\n",
    "            [((g-1)*q - h)*Vn, (1-g)*Vn*u + h*nx , (1-g)*Vn*v + h*ny, g*Vn]])\n",
    "\n",
    "# Tìm vector riêng bên phải:\n",
    "# 1. trường hợp trị riêng bằng Vn\n",
    "A1 = An - Vn*eye(4) # = An - lambda*I\n",
    "A1"
   ]
  },
  {
   "cell_type": "markdown",
   "metadata": {},
   "source": [
    "Vì trị riêng Vn lặp lại hai lần nên tương ứng ta lấy hai vector riêng bên phải. Dễ dàng dàng nhận thấy hai vector này có dạng:\n",
    "\n",
    "$R_1 = (1, u, v, \\tau_1)^T, R_2 = (0, -ny, nx, \\tau_1)^T$\n",
    "\n",
    "Chúng ta cần tìm $\\tau_1$ cho từng trường hợp. Để làm điều này ta sử dụng hàm gauss_jordan_solve để hỗ trợ. Cách làm như sau:"
   ]
  },
  {
   "cell_type": "code",
   "execution_count": 9,
   "metadata": {},
   "outputs": [
    {
     "data": {
      "text/latex": [
       "$$\\left[\\begin{matrix}\\frac{n_{x} \\tau_{0} v - n_{x} \\tau_{1} - n_{y} \\tau_{0} u}{- V_{n} u + n_{x} q}\\\\\\frac{V_{n} \\tau_{0} v - V_{n} \\tau_{1} - n_{y} q \\tau_{0}}{- V_{n} u + n_{x} q}\\\\\\tau_{0}\\\\\\tau_{1}\\end{matrix}\\right]$$"
      ],
      "text/plain": [
       "⎡nₓ⋅τ₀⋅v - nₓ⋅τ₁ - n_y⋅τ₀⋅u⎤\n",
       "⎢──────────────────────────⎥\n",
       "⎢       -Vₙ⋅u + nₓ⋅q       ⎥\n",
       "⎢                          ⎥\n",
       "⎢Vₙ⋅τ₀⋅v - Vₙ⋅τ₁ - n_y⋅q⋅τ₀⎥\n",
       "⎢──────────────────────────⎥\n",
       "⎢       -Vₙ⋅u + nₓ⋅q       ⎥\n",
       "⎢                          ⎥\n",
       "⎢            τ₀            ⎥\n",
       "⎢                          ⎥\n",
       "⎣            τ₁            ⎦"
      ]
     },
     "execution_count": 9,
     "metadata": {},
     "output_type": "execute_result"
    }
   ],
   "source": [
    "B = Matrix([0, 0, 0, 0])\n",
    "\n",
    "Ri, params = A1.gauss_jordan_solve(B)\n",
    "simplify(Ri)"
   ]
  },
  {
   "cell_type": "markdown",
   "metadata": {},
   "source": [
    "Đồng nhất hạng tử Ri=R1, Ri=R2 ta tìm được $\\tau_1$ lần lượt bằng $q; n_xv-n_yu$. Như vậy hai vector riêng bên phải:\n",
    "\n",
    "$$R_1 = (1, u, v, q)^T$$ $$R_2 = (0, -ny, nx, n_xv-n_yu)^T$$"
   ]
  },
  {
   "cell_type": "code",
   "execution_count": 10,
   "metadata": {},
   "outputs": [
    {
     "data": {
      "text/latex": [
       "$$\\left[\\begin{matrix}- V_{n} + c & n_{x} & n_{y} & 0\\\\- V_{n} u + n_{x} q \\left(\\gamma - 1\\right) & c + n_{x} u \\left(- \\gamma + 2\\right) & n_{x} v \\left(- \\gamma + 1\\right) + n_{y} u & n_{x} \\left(\\gamma - 1\\right)\\\\- V_{n} v + n_{y} q \\left(\\gamma - 1\\right) & n_{x} v + n_{y} u \\left(- \\gamma + 1\\right) & c + n_{y} v \\left(- \\gamma + 2\\right) & n_{y} \\left(\\gamma - 1\\right)\\\\V_{n} \\left(- h + q \\left(\\gamma - 1\\right)\\right) & V_{n} u \\left(- \\gamma + 1\\right) + h n_{x} & V_{n} v \\left(- \\gamma + 1\\right) + h n_{y} & V_{n} \\gamma - V_{n} + c\\end{matrix}\\right]$$"
      ],
      "text/plain": [
       "⎡       -Vₙ + c                  nₓ                     n_y                 0 \n",
       "⎢                                                                             \n",
       "⎢-Vₙ⋅u + nₓ⋅q⋅(γ - 1)     c + nₓ⋅u⋅(-γ + 2)    nₓ⋅v⋅(-γ + 1) + n_y⋅u   nₓ⋅(γ -\n",
       "⎢                                                                             \n",
       "⎢-Vₙ⋅v + n_y⋅q⋅(γ - 1)  nₓ⋅v + n_y⋅u⋅(-γ + 1)   c + n_y⋅v⋅(-γ + 2)     n_y⋅(γ \n",
       "⎢                                                                             \n",
       "⎣ Vₙ⋅(-h + q⋅(γ - 1))   Vₙ⋅u⋅(-γ + 1) + h⋅nₓ   Vₙ⋅v⋅(-γ + 1) + h⋅n_y  Vₙ⋅γ - V\n",
       "\n",
       "     ⎤\n",
       "     ⎥\n",
       " 1)  ⎥\n",
       "     ⎥\n",
       "- 1) ⎥\n",
       "     ⎥\n",
       "ₙ + c⎦"
      ]
     },
     "execution_count": 10,
     "metadata": {},
     "output_type": "execute_result"
    }
   ],
   "source": [
    "# 2. trường hợp trị riêng  bằng Vn-c\n",
    "A2 = An - (Vn-c)*eye(4)\n",
    "A2"
   ]
  },
  {
   "cell_type": "code",
   "execution_count": 11,
   "metadata": {},
   "outputs": [
    {
     "data": {
      "text/latex": [
       "$$\\left ( \\left[\\begin{matrix}0\\\\0\\\\0\\\\0\\end{matrix}\\right], \\quad \\left[\\begin{matrix}\\end{matrix}\\right]\\right )$$"
      ],
      "text/plain": [
       "⎛⎡0⎤    ⎞\n",
       "⎜⎢ ⎥    ⎟\n",
       "⎜⎢0⎥    ⎟\n",
       "⎜⎢ ⎥, []⎟\n",
       "⎜⎢0⎥    ⎟\n",
       "⎜⎢ ⎥    ⎟\n",
       "⎝⎣0⎦    ⎠"
      ]
     },
     "execution_count": 11,
     "metadata": {},
     "output_type": "execute_result"
    }
   ],
   "source": [
    "# Không còn dùng được hàm gauss_jordan_solve để giải \n",
    "A2.gauss_jordan_solve(B)"
   ]
  },
  {
   "cell_type": "code",
   "execution_count": 12,
   "metadata": {},
   "outputs": [
    {
     "data": {
      "image/png": "[encoded data removed]",
      "text/latex": [
       "$$\\left \\{ x : \\frac{- V_{n} c \\gamma n_{x} u - V_{n} c \\gamma n_{y} v + V_{n} c n_{x} u + V_{n} c n_{y} v - V_{n} \\gamma q + V_{n} \\gamma u^{2} + V_{n} \\gamma v^{2} + V_{n} h + V_{n} q - V_{n} u^{2} - V_{n} v^{2} + c h n_{x}^{2} + c h n_{y}^{2} - h n_{x} u - h n_{y} v}{V_{n} \\gamma - V_{n} + c}\\right \\}$$"
      ],
      "text/plain": [
       "⎧                                                                         2   \n",
       "⎪   -Vₙ⋅c⋅γ⋅nₓ⋅u - Vₙ⋅c⋅γ⋅n_y⋅v + Vₙ⋅c⋅nₓ⋅u + Vₙ⋅c⋅n_y⋅v - Vₙ⋅γ⋅q + Vₙ⋅γ⋅u  + \n",
       "⎨x: ──────────────────────────────────────────────────────────────────────────\n",
       "⎪                                                                        Vₙ⋅γ \n",
       "⎩                                                                             \n",
       "\n",
       "      2                     2       2         2          2                   ⎫\n",
       "Vₙ⋅γ⋅v  + Vₙ⋅h + Vₙ⋅q - Vₙ⋅u  - Vₙ⋅v  + c⋅h⋅nₓ  + c⋅h⋅n_y  - h⋅nₓ⋅u - h⋅n_y⋅v⎪\n",
       "─────────────────────────────────────────────────────────────────────────────⎬\n",
       "- Vₙ + c                                                                     ⎪\n",
       "                                                                             ⎭"
      ]
     },
     "execution_count": 12,
     "metadata": {},
     "output_type": "execute_result"
    }
   ],
   "source": [
    "# Vector riêng có dạng Ri = (1, u-c*nx, v-c*ny, x).\n",
    "x = symbols('x', real=True)\n",
    "Ri = Matrix([1, u-c*nx, v-c*ny, x])\n",
    "\n",
    "# Tìm x như sau:\n",
    "fx = A2[3, :]*Ri # = 0\n",
    "\n",
    "solve(fx, x)"
   ]
  },
  {
   "cell_type": "markdown",
   "metadata": {},
   "source": [
    "Rút gọn tử số ta được: $-V_n^2c(\\gamma-1)+V_nq(\\gamma-1)+ch$. Thay $q=h-c^2/(\\gamma-1)$, tử số bằng:\n",
    "\n",
    "$-V_n^2c(\\gamma-1) + V_n(\\gamma-1)h - V_nc^2+ch = (V_n(\\gamma-1)+c)(h-V_nc)$\n",
    "\n",
    "Như vậy $x=h-V_nc$. \n",
    "\n",
    "Ta có vector riêng tương ứng trị riêng $\\lambda = V_n - c$: \n",
    "$$R_3=(1, u-cn_x, v-cn_y, h-V_nc)^T$$\n",
    "Tương tự, vector riêng tương ứng trị riêng $\\lambda = V_n + c$: \n",
    "$$R_4 = (1, u+cn_x, v+cn_y, n+V_nc)^T$$"
   ]
  },
  {
   "cell_type": "code",
   "execution_count": 13,
   "metadata": {},
   "outputs": [
    {
     "data": {
      "text/latex": [
       "$$\\left[\\begin{matrix}c v \\left(- n_{x}^{2} - n_{y}^{2} + 1\\right)\\end{matrix}\\right]$$"
      ],
      "text/plain": [
       "⎡    ⎛    2      2    ⎞⎤\n",
       "⎣c⋅v⋅⎝- nₓ  - n_y  + 1⎠⎦"
      ]
     },
     "execution_count": 13,
     "metadata": {},
     "output_type": "execute_result"
    }
   ],
   "source": [
    "# Kiểm tra lại vector riêng R3\n",
    "Ri = Matrix([1, u-c*nx, v-c*ny, h-Vn*c])\n",
    "fx = A2[2, :]*Ri\n",
    "\n",
    "args = ([Vn, u*nx+v*ny], [q, 0.5*(u*u+v*v)], [h, 0.5*(u*u+v*v) + c*c/(g-1)])\n",
    "simplify(fx.subs(args)) # = 0 -> đúng "
   ]
  },
  {
   "cell_type": "code",
   "execution_count": 14,
   "metadata": {},
   "outputs": [
    {
     "data": {
      "text/latex": [
       "$$\\left[\\begin{matrix}c u \\left(- n_{x}^{2} - n_{y}^{2} + 1\\right)\\end{matrix}\\right]$$"
      ],
      "text/plain": [
       "⎡    ⎛    2      2    ⎞⎤\n",
       "⎣c⋅u⋅⎝- nₓ  - n_y  + 1⎠⎦"
      ]
     },
     "execution_count": 14,
     "metadata": {},
     "output_type": "execute_result"
    }
   ],
   "source": [
    "fx = A2[1, :]*Ri\n",
    "simplify(fx.subs(args)) # = 0 -> đúng "
   ]
  },
  {
   "cell_type": "code",
   "execution_count": 15,
   "metadata": {},
   "outputs": [
    {
     "data": {
      "text/latex": [
       "$$\\left[\\begin{matrix}\\left|{V_{n} - c}\\right| & 0 & 0 & 0\\\\0 & \\left|{V_{n}}\\right| & 0 & 0\\\\0 & 0 & \\left|{V_{n}}\\right| & 0\\\\0 & 0 & 0 & \\left|{V_{n} + c}\\right|\\end{matrix}\\right]$$"
      ],
      "text/plain": [
       "⎡│Vₙ - c│   0     0       0    ⎤\n",
       "⎢                              ⎥\n",
       "⎢   0      │Vₙ│   0       0    ⎥\n",
       "⎢                              ⎥\n",
       "⎢   0       0    │Vₙ│     0    ⎥\n",
       "⎢                              ⎥\n",
       "⎣   0       0     0    │Vₙ + c│⎦"
      ]
     },
     "execution_count": 15,
     "metadata": {},
     "output_type": "execute_result"
    }
   ],
   "source": [
    "# Ta có ma trận đường chéo trị riêng\n",
    "E = diag(abs(Vn-c), abs(Vn), abs(Vn), abs(Vn+c))\n",
    "E"
   ]
  },
  {
   "cell_type": "code",
   "execution_count": 16,
   "metadata": {},
   "outputs": [
    {
     "data": {
      "text/latex": [
       "$$\\left[\\begin{matrix}1 & 1 & 0 & 1\\\\- c n_{x} + u & u & - n_{y} & c n_{x} + u\\\\- c n_{y} + v & v & n_{x} & c n_{y} + v\\\\- V_{n} c + h & q & n_{x} v - n_{y} u & V_{n} c + h\\end{matrix}\\right]$$"
      ],
      "text/plain": [
       "⎡    1       1       0            1    ⎤\n",
       "⎢                                      ⎥\n",
       "⎢-c⋅nₓ + u   u      -n_y      c⋅nₓ + u ⎥\n",
       "⎢                                      ⎥\n",
       "⎢-c⋅n_y + v  v       nₓ       c⋅n_y + v⎥\n",
       "⎢                                      ⎥\n",
       "⎣-Vₙ⋅c + h   q  nₓ⋅v - n_y⋅u  Vₙ⋅c + h ⎦"
      ]
     },
     "execution_count": 16,
     "metadata": {},
     "output_type": "execute_result"
    }
   ],
   "source": [
    "# Tương ứng ma trận vector riêng bên phải \n",
    "R = Matrix([[1, 1, 0, 1], [u-c*nx, u, -ny, u+c*nx],\\\n",
    "            [v-c*ny, v, nx, v+c*ny], [h-Vn*c, q, -u*ny+v*nx, h+Vn*c]])\n",
    "\n",
    "R"
   ]
  },
  {
   "cell_type": "markdown",
   "metadata": {},
   "source": [
    "Kết quả này hoàn toàn trùng khớp với kết quả trong sách của **Katate Masatsuka** trang 69. Tương tự ta có ma trận vector riêng bên trái:"
   ]
  },
  {
   "cell_type": "code",
   "execution_count": 17,
   "metadata": {},
   "outputs": [
    {
     "data": {
      "text/latex": [
       "$$\\left[\\begin{matrix}\\frac{V_{n}}{2 c} + \\frac{q \\left(\\gamma - 1\\right)}{2 c^{2}} & - \\frac{n_{x}}{2 c} - \\frac{u \\left(\\gamma - 1\\right)}{2 c^{2}} & - \\frac{n_{y}}{2 c} - \\frac{v \\left(\\gamma - 1\\right)}{2 c^{2}} & \\frac{\\gamma - 1}{2 c^{2}}\\\\1 - \\frac{q \\left(\\gamma - 1\\right)}{c^{2}} & \\frac{u \\left(\\gamma - 1\\right)}{c^{2}} & \\frac{v \\left(\\gamma - 1\\right)}{c^{2}} & \\frac{- \\gamma + 1}{c^{2}}\\\\- n_{x} v + n_{y} u & - n_{y} & n_{x} & 0\\\\- \\frac{V_{n}}{2 c} + \\frac{q \\left(\\gamma - 1\\right)}{2 c^{2}} & \\frac{n_{x}}{2 c} - \\frac{u \\left(\\gamma - 1\\right)}{2 c^{2}} & \\frac{n_{y}}{2 c} - \\frac{v \\left(\\gamma - 1\\right)}{2 c^{2}} & \\frac{\\gamma - 1}{2 c^{2}}\\end{matrix}\\right]$$"
      ],
      "text/plain": [
       "⎡  Vₙ   q⋅(γ - 1)      nₓ   u⋅(γ - 1)    n_y   v⋅(γ - 1)  γ - 1 ⎤\n",
       "⎢ ─── + ─────────   - ─── - ─────────  - ─── - ─────────  ───── ⎥\n",
       "⎢ 2⋅c         2       2⋅c         2      2⋅c         2        2 ⎥\n",
       "⎢          2⋅c                 2⋅c                2⋅c      2⋅c  ⎥\n",
       "⎢                                                               ⎥\n",
       "⎢      q⋅(γ - 1)        u⋅(γ - 1)          v⋅(γ - 1)      -γ + 1⎥\n",
       "⎢  1 - ─────────        ─────────          ─────────      ──────⎥\n",
       "⎢           2                2                  2            2  ⎥\n",
       "⎢          c                c                  c            c   ⎥\n",
       "⎢                                                               ⎥\n",
       "⎢  -nₓ⋅v + n_y⋅u          -n_y                nₓ            0   ⎥\n",
       "⎢                                                               ⎥\n",
       "⎢   Vₙ   q⋅(γ - 1)    nₓ   u⋅(γ - 1)    n_y   v⋅(γ - 1)   γ - 1 ⎥\n",
       "⎢- ─── + ─────────   ─── - ─────────    ─── - ─────────   ───── ⎥\n",
       "⎢  2⋅c         2     2⋅c         2      2⋅c         2         2 ⎥\n",
       "⎣           2⋅c               2⋅c                2⋅c       2⋅c  ⎦"
      ]
     },
     "execution_count": 17,
     "metadata": {},
     "output_type": "execute_result"
    }
   ],
   "source": [
    "L = Matrix([[((g-1)*q/c**2 + Vn/c)/2, -((g-1)*u/c**2 + nx/c)/2, -((g-1)*v/c**2+ny/c)/2, (g-1)/(2*c**2)], \\\n",
    "            [1-(g-1)*q/c**2, (g-1)*u/c**2, (g-1)*v/c**2, -(g-1)/c**2], \\\n",
    "            [u*ny-v*nx, -ny, nx, 0], \\\n",
    "            [((g-1)*q/c**2-Vn/c)/2, -((g-1)*u/c**2-nx/c)/2, -((g-1)*v/c**2-ny/c)/2, (g-1)/(2*c**2)]])\n",
    "\n",
    "L"
   ]
  },
  {
   "cell_type": "code",
   "execution_count": 18,
   "metadata": {},
   "outputs": [
    {
     "data": {
      "text/latex": [
       "$$\\left[\\begin{matrix}1 & 0 & 0 & 0\\\\u \\left(- n_{x}^{2} - n_{y}^{2} + 1\\right) & n_{x}^{2} + n_{y}^{2} & 0 & 0\\\\v \\left(- n_{x}^{2} - n_{y}^{2} + 1\\right) & 0 & n_{x}^{2} + n_{y}^{2} & 0\\\\- 1.0 n_{x}^{2} u^{2} - 1.0 n_{x}^{2} v^{2} - 1.0 n_{y}^{2} u^{2} - 1.0 n_{y}^{2} v^{2} + 1.0 u^{2} + 1.0 v^{2} & u \\left(n_{x}^{2} + n_{y}^{2} - 1\\right) & v \\left(n_{x}^{2} + n_{y}^{2} - 1\\right) & 1\\end{matrix}\\right]$$"
      ],
      "text/plain": [
       "⎡                                   1                                         \n",
       "⎢                                                                             \n",
       "⎢                           ⎛    2      2    ⎞                                \n",
       "⎢                         u⋅⎝- nₓ  - n_y  + 1⎠                                \n",
       "⎢                                                                             \n",
       "⎢                           ⎛    2      2    ⎞                                \n",
       "⎢                         v⋅⎝- nₓ  - n_y  + 1⎠                                \n",
       "⎢                                                                             \n",
       "⎢        2  2         2  2          2  2          2  2        2        2    ⎛ \n",
       "⎣- 1.0⋅nₓ ⋅u  - 1.0⋅nₓ ⋅v  - 1.0⋅n_y ⋅u  - 1.0⋅n_y ⋅v  + 1.0⋅u  + 1.0⋅v   u⋅⎝n\n",
       "\n",
       "    0                   0           0⎤\n",
       "                                     ⎥\n",
       "  2      2                           ⎥\n",
       "nₓ  + n_y               0           0⎥\n",
       "                                     ⎥\n",
       "                      2      2       ⎥\n",
       "    0               nₓ  + n_y       0⎥\n",
       "                                     ⎥\n",
       " 2      2    ⎞    ⎛  2      2    ⎞   ⎥\n",
       "ₓ  + n_y  - 1⎠  v⋅⎝nₓ  + n_y  - 1⎠  1⎦"
      ]
     },
     "execution_count": 18,
     "metadata": {},
     "output_type": "execute_result"
    }
   ],
   "source": [
    "# Kiểm tra lại kết quả, tính tích R*L\n",
    "RL = simplify(R*L)\n",
    "simplify(RL.subs(args))"
   ]
  },
  {
   "cell_type": "markdown",
   "metadata": {},
   "source": [
    "Rút gọn ta được $RL=I$, hay $L=R^{-1}$.\n",
    "\n",
    "Như vậy ta đã có công thức của $R, \\Lambda, L$, để tính dòng theo công thức 1, cần xác định công thức tính $\\alpha_i$. Cách làm như trong sách của **Toro, trang 364**:\n",
    "\n",
    "\\begin{align}\n",
    "\\hat\\alpha_1 &= \\frac{1}{2\\hat c^2}[\\Delta p-\\hat \\rho \\hat c \\Delta V_n]\\\\\n",
    "\\hat\\alpha_2 &= \\Delta \\rho -\\Delta p/\\hat c^2 \\\\\n",
    "\\hat\\alpha_3 &= \\hat \\rho \\Delta V_{\\tau}\\\\\n",
    "\\hat\\alpha_4 &= \\frac{1}{2\\hat c^2}[\\Delta p+\\hat \\rho \\hat c \\Delta V_n]\\\\\n",
    "\\end{align}\n",
    "\n",
    "với $V_n = Vn = (u,v)(n_x,n_y) = un_x+vn_y; \\quad V_{\\tau} = V{\\tau} = (u,v)(-n_y,n_x) = -un_y+vn_x$.\n",
    "\n",
    "## 5. So sánh hai công thức tính dòng qua mặt\n",
    "\n",
    "Viết hai chương trình nhỏ để kiểm tra phương pháp tính dòng."
   ]
  },
  {
   "cell_type": "code",
   "execution_count": 1,
   "metadata": {},
   "outputs": [],
   "source": [
    "from numpy import diag, array, dot"
   ]
  },
  {
   "cell_type": "code",
   "execution_count": 2,
   "metadata": {},
   "outputs": [],
   "source": [
    "# Công thức 1\n",
    "def flux_roe_1(Pl, Pr, N):\n",
    "    # Xác định các thông số trái, phải \n",
    "    rl, ul, vl, pl = Pl[0], Pl[1], Pl[2], Pl[3]\n",
    "    rr, ur, vr, pr = Pr[0], Pr[1], Pr[2], Pr[3]\n",
    "    nx, ny = N[0], N[1]\n",
    "    \n",
    "    g, gm1 = 1.4, 0.4\n",
    "    cl = (g*pl/rl)**0.5\n",
    "    cr = (g*pr/rr)**0.5\n",
    "    hl = 0.5*(ul*ul+vl*vl)+cl*cl/gm1\n",
    "    hr = 0.5*(ur*ur+vr*vr)+cr*cr/gm1\n",
    "    Vln = ul*nx+vl*ny\n",
    "    Vlt = -ul*ny+vl*nx\n",
    "    Vrn = ur*nx+vr*ny\n",
    "    Vrt = -ur*ny+vr*nx\n",
    "    \n",
    "    # Xác định các giá trị trung bình Roe \n",
    "    rla = rl**0.5\n",
    "    rra = rr**0.5\n",
    "    rsa = rla+rra\n",
    "    \n",
    "    r = rla*rra\n",
    "    u = (rla*ul+rra*ur)/rsa\n",
    "    v = (rla*vl+rra*vr)/rsa\n",
    "    Vn = u*nx+v*ny\n",
    "    h = (rla*hl+rra*hr)/rsa\n",
    "    q = 0.5*(u*u+v*v)\n",
    "    c = (gm1*(h-q))**0.5\n",
    "    c2 = c*c\n",
    "        \n",
    "    # Độ lớn Delta U (để tính alpha)\n",
    "    Dr  = rr-rl\n",
    "    DVn = Vrn-Vln\n",
    "    DVt = Vrt-Vlt\n",
    "    Dp  = pr-pl\n",
    "    \n",
    "    # Ma trận vector riêng bên phải \n",
    "    R = array([[1, 1, 0, 1], [u-c*nx, u, -ny, u+c*nx],\\\n",
    "               [v-c*ny, v, nx, v+c*ny], [h-Vn*c, q, -u*ny+v*nx, h+Vn*c]])\n",
    "    \n",
    "    # Vận tốc sóng \n",
    "    E = [abs(Vn-c), abs(Vn), abs(Vn), abs(Vn+c)]\n",
    "    \n",
    "    # Alpha \n",
    "    A = [(Dp-r*c*DVn)/(2*c2), Dr-Dp/c2, r*DVt, (Dp+r*c*DVn)/(2*c2)]\n",
    "        \n",
    "    dF = array([0., 0., 0., 0.])\n",
    "    for i in range(4):\n",
    "        for j in range(4):\n",
    "            dF[i] = dF[i] + E[j]*A[j]*R[i,j]\n",
    "      \n",
    "    # Dòng trái, phải \n",
    "    rln = rl*Vln\n",
    "    Fl  = array([rln, rln*ul+pl*nx, rln*vl+pl*ny, rln*hl])\n",
    "    rrn = rr*Vrn\n",
    "    Fr  = array([rrn, rrn*ur+pr*nx, rrn*vr+pr*ny, rrn*hr])\n",
    "    \n",
    "    # Dòng qua mặt \n",
    "    F = 0.5*(Fl+Fr - dF)\n",
    "    \n",
    "    return F"
   ]
  },
  {
   "cell_type": "code",
   "execution_count": 3,
   "metadata": {},
   "outputs": [],
   "source": [
    "# Công thức 2\n",
    "def flux_roe_2(Pl, Pr, N):\n",
    "    # Xác định các thông số trái, phải \n",
    "    rl, ul, vl, pl = Pl[0], Pl[1], Pl[2], Pl[3]\n",
    "    rr, ur, vr, pr = Pr[0], Pr[1], Pr[2], Pr[3]\n",
    "    nx, ny = N[0], N[1]\n",
    "    \n",
    "    g, gm1 = 1.4, 0.4\n",
    "    cl = (g*pl/rl)**0.5\n",
    "    cr = (g*pr/rr)**0.5\n",
    "    hl = 0.5*(ul*ul+vl*vl)+cl*cl/gm1\n",
    "    hr = 0.5*(ur*ur+vr*vr)+cr*cr/gm1\n",
    "    Vln = ul*nx+vl*ny\n",
    "    Vrn = ur*nx+vr*ny\n",
    "    \n",
    "    # Xác định các giá trị trung bình Roe \n",
    "    rla = rl**0.5\n",
    "    rra = rr**0.5\n",
    "    rsa = rla+rra\n",
    "    \n",
    "    r = rla*rra\n",
    "    u = (rla*ul+rra*ur)/rsa\n",
    "    v = (rla*vl+rra*vr)/rsa\n",
    "    Vn = u*nx+v*ny\n",
    "    h = (rla*hl+rra*hr)/rsa\n",
    "    q = 0.5*(u*u+v*v)\n",
    "    c = (gm1*(h-q))**0.5\n",
    "    gm1dc2 = gm1/(c*c)\n",
    "    \n",
    "    # Ma trận vector riêng bên phải \n",
    "    R = array([[1, 1, 0, 1], [u-c*nx, u, -ny, u+c*nx],\\\n",
    "               [v-c*ny, v, nx, v+c*ny], [h-Vn*c, q, -u*ny+v*nx, h+Vn*c]])\n",
    "    \n",
    "    # Ma trận đường chéo trị riêng \n",
    "    E = diag([abs(Vn-c), abs(Vn), abs(Vn), abs(Vn+c)])\n",
    "    \n",
    "    # Ma trận vector riêng bên trái \n",
    "    L = array([[(gm1dc2*q + Vn/c)/2, -(gm1dc2*u + nx/c)/2, -(gm1dc2*v+ny/c)/2, gm1dc2/2], \\\n",
    "               [1-gm1dc2*q, gm1dc2*u, gm1dc2*v, -gm1dc2], \\\n",
    "               [u*ny-v*nx, -ny, nx, 0],\\\n",
    "               [(gm1dc2*q-Vn/c)/2, -(gm1dc2*u-nx/c)/2, -(gm1dc2*v-ny/c)/2, gm1dc2/2]])\n",
    "    \n",
    "    # Tích R*E*L\n",
    "    RE = dot(R,E)\n",
    "    REL = dot(RE,L)\n",
    "      \n",
    "    # Biến bảo toàn trái, phải \n",
    "    Ul = array([rl, rl*ul, rl*vl, rl*(hl-pl/rl)])\n",
    "    Ur = array([rr, rr*ur, rr*vr, rr*(hr-pr/rr)])\n",
    "    \n",
    "    # Dòng trái, phải \n",
    "    rln = rl*Vln\n",
    "    Fl = array([rln, rln*ul+pl*nx, rln*vl+pl*ny, rln*hl])\n",
    "    rrn = rr*Vrn\n",
    "    Fr = array([rrn, rrn*ur+pr*nx, rrn*vr+pr*ny, rrn*hr])\n",
    "    \n",
    "    # Dòng qua mặt \n",
    "    F = 0.5*(Fl+Fr - dot(REL,Ur-Ul))\n",
    "    \n",
    "    return F"
   ]
  },
  {
   "cell_type": "code",
   "execution_count": 4,
   "metadata": {},
   "outputs": [],
   "source": [
    "# Hàm test thời gian tính toán \n",
    "def test(flux_func):\n",
    "    for i in range(10000): F=flux_func(Pl,Pr,N)\n",
    "    print(F)\n",
    "    return"
   ]
  },
  {
   "cell_type": "code",
   "execution_count": 8,
   "metadata": {},
   "outputs": [],
   "source": [
    "# Ví dụ \n",
    "Pl = [1.0, 0.75, 0.0, 1.0]\n",
    "Pr = [0.125, 0.0, 0.0, 0.1]\n",
    "N  = [1, 0]"
   ]
  },
  {
   "cell_type": "code",
   "execution_count": 9,
   "metadata": {},
   "outputs": [
    {
     "name": "stdout",
     "output_type": "stream",
     "text": [
      "[0.88328704 1.4815703  0.         3.22000163]\n",
      "CPU times: user 197 ms, sys: 0 ns, total: 197 ms\n",
      "Wall time: 196 ms\n"
     ]
    }
   ],
   "source": [
    "%time test(flux_roe_1)"
   ]
  },
  {
   "cell_type": "code",
   "execution_count": 10,
   "metadata": {},
   "outputs": [
    {
     "name": "stdout",
     "output_type": "stream",
     "text": [
      "[0.88328704 1.4815703  0.         3.22000163]\n",
      "CPU times: user 243 ms, sys: 0 ns, total: 243 ms\n",
      "Wall time: 243 ms\n"
     ]
    }
   ],
   "source": [
    "%time test(flux_roe_2)"
   ]
  },
  {
   "cell_type": "markdown",
   "metadata": {},
   "source": [
    "Kết quả cho thấy có thể sử dụng cả hai công thức để tính dòng qua mặt, tuy nhiên công thức thứ 2 sẽ chạy lâu hơn.\n",
    "\n",
    "Còn nhiều phương pháp khác để tính dòng qua mặt được giới thiệu trong sách của Toro. Các bạn có thể tham khảo thêm.\n",
    "\n",
    "## 6. Entropy fix \n",
    "\n",
    "Một vấn đề có thể gặp phải khi sử dụng phương pháp Roe đó là kết quả thu được có thể không thỏa mãn điều kiện entropy, lý do là vì nghiệm thu được của bài toán Riemann bằng phương pháp Roe chỉ chứa gián đoạn tiếp xúc hoặc sóng xung kích mà không có sóng giãn **[Toro, trang 366]**. Có nhiều cách để giải quyết vấn đề này, một trong số đó là **Harten's Entropy Fix**: thay vì sử dụng giá trị tuyệt đối $|\\lambda|$ ta dùng hàm \n",
    "$$\n",
    "\\phi_{\\delta}(\\lambda) =\n",
    "\\begin{cases}\n",
    "|\\lambda| \\ \\qquad \\qquad if \\ |\\lambda| \\ge \\delta \\\\\n",
    "(\\lambda^2+\\delta^2)/(2\\delta) \\ if \\ |\\lambda| < \\delta \n",
    "\\end{cases}\n",
    "$$\n",
    "với, ví dụ $\\delta=0.2$.\n",
    "\n",
    "Để ý rằng, sóng giãn chỉ có thể xuất hiện với hai trị riêng $V_n-c, V_n+c$ (hai giá trị còn lại tương ứng với gián đoạn tiếp xúc) do đó ta chỉ cần áp dụng entropy fix với hai trị riêng này.\n",
    "\n",
    "# 7. Tổng kết\n",
    "\n",
    "Như vậy, ta đã tìm hiểu được hai phương pháp tính dòng đối lưu qua mặt, đó là phương pháp Godunov và phương pháp Roe. Còn rất nhiều phương pháp khác, các bạn hãy tìm hiểu thêm. Ở bài tiếp theo sẽ giới thiệu về phương pháp tính dòng khuếch tán qua mặt.\n",
    "\n",
    "\n",
    "# [Bài 26. Phương pháp tính dòng khuếch tán ](Bai_26.ipynb)\n"
   ]
  },
  {
   "cell_type": "code",
   "execution_count": null,
   "metadata": {},
   "outputs": [],
   "source": []
  }
 ],
 "metadata": {
  "kernelspec": {
   "display_name": "Python 3",
   "language": "python",
   "name": "python3"
  },
  "language_info": {
   "codemirror_mode": {
    "name": "ipython",
    "version": 3
   },
   "file_extension": ".py",
   "mimetype": "text/x-python",
   "name": "python",
   "nbconvert_exporter": "python",
   "pygments_lexer": "ipython3",
   "version": "3.7.4"
  }
 },
 "nbformat": 4,
 "nbformat_minor": 2
}
