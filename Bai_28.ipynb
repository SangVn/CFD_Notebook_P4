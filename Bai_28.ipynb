{
 "cells": [
  {
   "cell_type": "markdown",
   "metadata": {},
   "source": [
    "Tài liệu này mang giấy phép Creative Commons Attribution (CC BY).\n",
    "(c) Nguyễn Ngọc Sáng, Zhukovsky 7/2020.\n",
    "\n",
    "[@SangVn](https://github.com/SangVn) [@VnCFD](https://vncfdgroup.wordpress.com/)\n",
    "\n",
    "*Thực hành CFD với Python!*"
   ]
  },
  {
   "cell_type": "markdown",
   "metadata": {},
   "source": [
    "# Bài 28. VnCFD_2D_v3\n",
    "\n",
    "Tiếp theo phiên bản VnCFD_2D_v2, phiên bản v3 hiện thực hóa phương pháp mô phỏng dòng chảy khí thực trong không gian hai chiều. Bạn đọc hãy tải code và xem hướng dẫn sử dụng [tại đây](https://github.com/SangVn/VnCFD_2D_v3).\n",
    "\n",
    "Để giải hệ phương trình Naiver-Stokes, trong code VnCFD_v3 bổ sung thêm ba lớp **nsCells, nsSides, nsBlock** có tính kế thừa từ ba lớp đã có để giải hệ Euler, đó là **euCells, euSides, euBlock**. Trong các lớp **ns** này có thêm các đặc tính, các hàm để xác định Jacobian, Gradient, dòng khuếch tán...\n",
    "\n",
    "Điểm khác biệt ở phiên bản v3 này so với v2 là có thể lựa chọn solver cho hệ Euler hoặc Navier-Stokes. Việc này thực hiện vô cùng đơn giản, trong module **run.py** chỉ cần khai báo loại block tương ứng: \n",
    "\n",
    "**blocks = Blocks(btype='ns') hoặc blocks = Blocks(btype='eu').**\n",
    "\n",
    "Sau đây là một số kết quả tính toán (vì việc tính toán còn chậm và hạn chế về máy móc nên đích thời gian hay số vòng lặp còn ít, bạn đọc hãy chạy lại các bài mô phỏng này).\n",
    "\n",
    "## 1. Laminar Flat Plate\n",
    "\n",
    "Các thông số ban đầu, điều kiện biên, lưới và kết quả dùng để so sánh được lấy từ trang của NASA [tại đây](https://www.grc.nasa.gov/WWW/wind/valid/fplam/fplam.html) và [tại đây](https://www.grc.nasa.gov/WWW/wind/valid/fplam/fplam01/fplam01.html). Kết quả tính toán bằng VnCFD_v3 được thể hiện ở các hình phía dưới: trường số Mach và phân bố vận tốc ở cuối tấm phẳng. So sánh cho thấy, kết quả này chưa được chính xác.\n",
    "\n",
    "<img src=\"img/plate_mach.png\" width=600>\n",
    "<img src=\"img/uU_eta.png\" width=500>\n",
    "\n",
    "## 2. Driven Cavity\n",
    "\n",
    "Đây là một trong các bài toán để kiểm tra code CFD của [NASA](https://www.grc.nasa.gov/WWW/wind/valid/cavity/cavity.html), tất các thông số, lưới, kết quả, bạn đọc có thể tìm ở trang này. Kết quả tính toán, trường số Mach, được biểu diễn ở hình dưới. Kết quả này không giống như trên trang của NASA.\n",
    "\n",
    "<img src=\"img/cavity.png\" width=600>\n",
    "\n",
    "## 3. Cylinder, Re = 40\n",
    "\n",
    "Xét bài toán dòng chảy quanh hình trụ với $Re_d=40$. Các thông số bài toán được cho cụ thể trong module setting. Vì lưới cho bài toán này hình chữ \"O\" nên ta sử dụng nó để kiểm tra hoạt động của các công thức tính gradient theo tọa độ dọc lưới. Kết quả lý thuyết và kết quả tính toán như ở hình dưới.\n",
    "<img src=\"img/cylinder_theory.png\" with=300>\n",
    "<img src=\"img/cylinder_mach.png\" with=300>\n",
    "\n",
    "Với Re=40, theo lý thuyết sẽ xuất hiện cặp xoáy phía sau cylinder. Tuy nhiên, kết quả tính toán thu được không thể hiện được điều này. Nguyên nhân là vì phương pháp tính đang được dùng có độ chính xác thấp, lưới không đủ tốt, hơn nữa với bề mặt cong việc mô phỏng hiện tượng tách lớp biên sẽ khó khăn hơn.\n",
    "\n",
    "### Tổng kết\n",
    "\n",
    "Kết quả mô phỏng cả ba bài toán cho thấy, phương pháp tính được sử dụng trong VnCFD_2D_v3 có thể dùng để giải hệ phương trình Navier-Stokes. Tuy nhiên vì **độ chính xác của phương pháp chỉ là bậc một** nên kết quả thu được chưa tốt. Để tăng độ chính xác bạn đọc hãy áp dụng các sơ đồ bậc cao đã được giới thiệu ở phần 2 *Thực hành CFD với Python!*. Ngoài ra, số lượng các phép tính trong solver Navier-Stokes tăng lên đáng kể so với trong solver Euler, thế nên tốc độ tính toán càng chậm đòi hỏi phải phát triển, sử dụng sơ đồ ẩn, tính toán song song và chuyển sang viết code trên Fortran, C, C++.\n",
    "\n",
    "**Bài tập:** Tăng độ chính xác của chương trình bằng cách sử dụng sơ đồ bậc hai.\n",
    "\n",
    "*Thực hành CFD với Python!* và chương trình *VnCFD_2D* được viết với mong muốn giới thiệu với bạn đọc phương pháp giải hệ phương trình Euler, Navier-Stokes và là tài liệu tham khảo khi các bạn nghiên cứu, phát triển code CFD. Mọi thứ chỉ mới dừng lại ở những kiến thức cơ bản, nền tảng. Hi vọng bạn đọc sẽ tiếp tục tìm hiểu và tiến xa hơn nữa trong nghiên cứu CFD! \n",
    "\n",
    "**Chúc các bạn may mắn và thành công!**"
   ]
  },
  {
   "cell_type": "code",
   "execution_count": null,
   "metadata": {},
   "outputs": [],
   "source": []
  }
 ],
 "metadata": {
  "kernelspec": {
   "display_name": "Python 3",
   "language": "python",
   "name": "python3"
  },
  "language_info": {
   "codemirror_mode": {
    "name": "ipython",
    "version": 3
   },
   "file_extension": ".py",
   "mimetype": "text/x-python",
   "name": "python",
   "nbconvert_exporter": "python",
   "pygments_lexer": "ipython3",
   "version": "3.7.4"
  }
 },
 "nbformat": 4,
 "nbformat_minor": 2
}
