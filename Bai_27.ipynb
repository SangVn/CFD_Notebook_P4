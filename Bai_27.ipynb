{
 "cells": [
  {
   "cell_type": "markdown",
   "metadata": {},
   "source": [
    "Tài liệu này mang giấy phép Creative Commons Attribution (CC BY).\n",
    "(c) Nguyễn Ngọc Sáng, Zhukovsky 7/2020.\n",
    "\n",
    "[@SangVn](https://github.com/SangVn) [@VnCFD](https://vncfdgroup.wordpress.com/)\n",
    "\n",
    "*Thực hành CFD với Python!*"
   ]
  },
  {
   "cell_type": "markdown",
   "metadata": {},
   "source": [
    "# Bài 27. Điều kiện biên\n",
    "\n"
   ]
  },
  {
   "cell_type": "markdown",
   "metadata": {},
   "source": [
    "Mỗi mặt ở trên biên vùng tính toán đều có một ô lưới kề nó nằm bên trong vùng tính toán (inner cell) và một ô lưới nằm ngoài vùng tính toán (ghost cell hay outer cell). Để tính dòng đối lưu qua mặt biên, ta cần xác định các thông số dòng chảy ngay trên mặt biên hoặc trong ghost cell. Trong VnCFD_v3, thông số trong ghost cell và trên mặt biên là một.\n",
    "\n",
    "# 1. Điều kiện biên wall\n",
    "\n",
    "Đây là loại điều kiện biên dành cho các bề mặt cứng không thẩm thấu. Trong VnCFD_v3, ta có ba điều kiện loại này: **symmetry (free_slip), no_slip, moving_wall**. \n",
    "\n",
    "Điều kiện biên đối xứng symmetry đồng thời cũng là điều kiện biên trượt free_slip dành cho hệ phương trình Euler, khi độ nhớt chất khí bằng 0. Điều kiện biên no_slip dành cho hệ phương trình Navier-Stokes. Điều kiện biên moving_wall dành cho trường hợp biên chuyển động theo phương tiếp tuyến của chính nó. Trong *phần III - Thực hành CFD với Python* việc sử dụng điều kiện biên no_slip cho hệ Euler là không hoàn toàn chính xác.\n",
    "\n",
    "**symmetry (free slip)**\n",
    "\n",
    "Vận tốc dòng chảy theo phương pháp tuyến tại biên bằng không:\n",
    "$$V_n^b=0, V_\\tau^b = V_\\tau ^{in} $$\n",
    "Hay ta có:\n",
    "$$\\vec V^b = \\vec V^{in}-V_n^{in}\\vec n$$\n",
    "Đối với khối lượng riêng và áp suất, đặt điều kiện gradient bằng không:\n",
    "$$\\rho^b = \\rho^{in}, p^b = p^{in}$$\n",
    "\n",
    "**no_slip**\n",
    "\n",
    "Vận tốc trên biên bằng không:\n",
    "$$u^b=0, v^b=0, \\rho^b = \\rho^{in}, p^b = p^{in}$$\n",
    "\n",
    "**moving_wall**\n",
    "\n",
    "Biên chuyển động với vận tốc cố định $(u_b,v_b)$:\n",
    "$$u^b=u_b, v^b=v_b, \\rho^b = \\rho^{in}, p^b = p^{in}$$\n",
    "\n",
    "# 2. Điều kiện biên farfield\n",
    "\n",
    "Đây là điều kiện biên cho dòng chảy ở xa vùng nhiễu động, thông số dòng chảy bằng thông số dòng tự do:\n",
    "$$P^b = 0.5(P^{freestream}+P^{in})$$\n",
    "\n",
    "# 3. Điều kiện biên inlet, outlet\n",
    "\n",
    "Để xác định các thông số trên biên cho điều kiện biên chảy vào và chảy ra, ta có thể căn cứ vào các đường đặc trưng và bất biến Riemann. Hệ phương trình Navier-Stokes 2D có ba đường đặc trưng tương tứng với ba trị riêng $\\lambda_1=V_n - c, \\lambda_2=\\lambda_3=V_n, \\lambda_4=V_n + c$ (bài 25). Dọc các đường đặc trưng này, các bất biến Riemann là hằng sô:\n",
    "\n",
    "$$R_{-}=V_n - \\frac{2c}{\\gamma-1}, R = \\frac{p}{\\rho^\\gamma}, R_{+}=V_n + \\frac{2c}{\\gamma-1}$$\n",
    "\n",
    "Xét bài toán phân rã gián đoạn trên mặt biên, tương ứng với thông số dòng chảy ở hai ô lưới hai bên ta có thể có \"cấu hình đường đặc trưng\" như ở hình minh họa bên dưới.\n",
    "\n",
    "<img src=\"img/Riemann.jpg\" width=400>\n",
    "Trong trường hợp này, dòng chảy theo phương pháp tuyến là dòng dưới âm, vì đường đặc trưng tương ứng trị riêng $V_n - c$ nghiêng sang trái, hay là $V_n - c<0 \\to Vn<c$."
   ]
  },
  {
   "cell_type": "markdown",
   "metadata": {},
   "source": [
    "**supersonic_inflow, supersonic_outflow**\n",
    "\n",
    "Với dòng chảy trên âm (từ trái sang phải) $V_n > c$, cả ba đường đặc trưng đều nghiêng sang phải.\n",
    "<img src=\"img/supersonic.png\" width=250>\n",
    "\n",
    "Do đó, đối với dòng chảy vào trên âm ta lấy:\n",
    "$$P^b=P^{freestream}$$\n",
    "Với dòng chảy ra trên âm:\n",
    "$$P^b=P^{in}$$"
   ]
  },
  {
   "cell_type": "markdown",
   "metadata": {},
   "source": [
    "**inflow**\n",
    "\n",
    "Đây là trường hợp tổng quát cho điều kiện biên chảy vào khi ta đã biết thông số $P^{out}=P^{freestream}$ và  $P^{in}$. Nếu $V_n^{out} > c$ ta có điều kiện supersonic. Với dòng chảy dưới âm ta có:\n",
    "\n",
    "$$R_{-}^b=R_{-}^{in},\\\\\n",
    "R^b = R^{out}, \\\\\n",
    "R_{+}^b=R_{+}^{out}$$\n",
    "hay là\n",
    "$$\n",
    "V_n^b - \\frac{2c^b}{\\gamma-1}=V_n^{in} - \\frac{2c^{in}}{\\gamma-1}, \\ (1)\\\\\n",
    "\\frac{p^b}{(\\rho^b)^\\gamma}=\\frac{p^{out}}{(\\rho^{out})^\\gamma}, \\ (2) \\\\\n",
    "V_n^b + \\frac{2c^b}{\\gamma-1}=V_n^{out} + \\frac{2c^{out}}{\\gamma-1} \\ (3)\n",
    "$$\n",
    "\n",
    "Giaỉ hệ phương trình này ta thu được $\\rho^b, V_n^b, p^b$. Vector vận tốc trên biên được tính theo công thức:\n",
    "$$\\vec V^b = \\vec V^{out} + (V_n^b-V_n^{out})\\vec n$$\n",
    "tức là $V_\\tau^b=V_\\tau^{out}$\n",
    "\n",
    "**outflow**\n",
    "\n",
    "Đối với dòng chảy ra, ta chỉ mới biết được thông số của dòng chảy ở ô lưới bên trong. Trường hợp dòng dưới âm thì chỉ có hai bất biến Riemann trên biên được xác định:\n",
    "$$R^b=R^{in}, \\\\\n",
    "R_{+}^b=R_{+}^{in}$$\n",
    "Do đó để xác định $P^b=(\\rho, u, v, p)^b$ ta cần phải biết được ít nhất một trong số chúng. Một trong số các cách thông dụng đó là cho áp suất tại biên $p^b=p_{exit}$. Khi đó ta có:\n",
    "$$\n",
    "\\frac{p^b}{(\\rho^b)^\\gamma}=\\frac{p^{in}}{(\\rho^{in})^\\gamma}, \\ (1) \\\\\n",
    "V_n^b + \\frac{2c^b}{\\gamma-1}=V_n^{in} + \\frac{2c^{in}}{\\gamma-1} \\ (2) \\\\\n",
    "p^b = p_{exit}\n",
    "$$\n",
    "\n",
    "Giaỉ hệ phương trình này ta thu được $\\rho^b, V_n^b, p^b$. Vector vận tốc trên biên được tính theo công thức:\n",
    "$$\\vec V^b = \\vec V^{in} + (V_n^b-V_n^{in})\\vec n$$\n",
    "tức là $V_\\tau^b=V_\\tau^{in}$\n"
   ]
  },
  {
   "cell_type": "markdown",
   "metadata": {},
   "source": [
    "## 4. Gradient trên mặt biên\n",
    "Theo phương tiếp tuyến, gradient trên biên tính thông qua hàm ngoại suy hai giá trị tại hai ô lưới kề biên.\n",
    "$$(\\phi_\\eta)_{i+1/2,j} = extrapolation((\\phi_\\eta)_{i,j}, (\\phi_\\eta)_{i-1,j}, 0.5(\\Delta\\xi)_{i,j}, 0.5((\\Delta\\xi)_{i,j}+(\\Delta\\xi)_{i-1,j}))$$\n",
    "\n",
    "Riêng đối với điều kiện biên no_slip, moving_wall, ta lấy gradient vận tốc theo phương tiếp tuyến bằng không:\n",
    "$$V_\\eta = 0$$\n",
    "Theo phương pháp tuyến:\n",
    "$$(\\phi_\\xi)_{i+1/2} = \\frac{\\phi_{i+1/2,j} - \\phi_{i,j}}{0.5(\\Delta\\xi)_{i,j}}$$\n",
    "\n",
    "\n",
    "\n",
    "## 5. Tổng kết\n",
    "\n",
    "Sau khi đã xác định được thông số $P^b$ trên biên, có thể tính ngay được dòng qua nó dùng hàm P2F. Ngoài ra, **khi đã biết $P^{in}, P^{out}$ ta có thể xác định thông số trên biên bằng hàm decay_roe hoặc decay_godunov**, còn dòng qua biên thì sử dụng flux_roe, flux_godunov hoặc P2F. Hai cách này sẽ cho hai kết quả khác nhau và sẽ ảnh hưởng tới kết quả tính toán chung. Nhìn chung, cách thứ hai sẽ cho kết quả tốt hơn. \n",
    "\n",
    "**Bài tập**: Viết thêm điều kiện biên theo cách hai, so sánh kết quả.\n",
    "\n",
    "Ngoài các loại điều kiện biên ở trên, còn nhiều loại khác các bạn hãy tìm hiểu thêm để áp dụng cho bài toán của mình. \n",
    "\n",
    "Điều kiện biên ảnh hưởng rất lớn tới kết quả tính toán. Do đó, điều kiện biên càng hoàn thiện thì kết quả càng chính xác!\n",
    "\n",
    "# [Bài 28. VnCFD_2D_v3](Bai_28.ipynb)"
   ]
  },
  {
   "cell_type": "code",
   "execution_count": null,
   "metadata": {},
   "outputs": [],
   "source": []
  }
 ],
 "metadata": {
  "kernelspec": {
   "display_name": "Python 3",
   "language": "python",
   "name": "python3"
  },
  "language_info": {
   "codemirror_mode": {
    "name": "ipython",
    "version": 3
   },
   "file_extension": ".py",
   "mimetype": "text/x-python",
   "name": "python",
   "nbconvert_exporter": "python",
   "pygments_lexer": "ipython3",
   "version": "3.7.4"
  }
 },
 "nbformat": 4,
 "nbformat_minor": 2
}
